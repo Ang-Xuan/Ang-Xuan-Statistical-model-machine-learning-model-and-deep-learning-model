{
 "cells": [
  {
   "cell_type": "code",
   "execution_count": 1,
   "metadata": {},
   "outputs": [],
   "source": [
    "import numpy as np\n",
    "import pandas as pd\n",
    "import matplotlib.pyplot as plt  \n",
    "from matplotlib.font_manager import FontProperties # 字体属性管理器，知道就好\n",
    " # 读取CSV文件的数据，替换数据的路径即可，即单引号内的内容\n",
    "data = pd.read_csv(r'hour.csv')\n",
    "#data = pd.read_excel(r'elec370.xlsx')\n",
    "\n",
    "# .iloc[:,0] 表示读取 data 的某行某列，第一个 ：表示所有行，0 表示读取第一列，这样就对应的第一列的所有行，注意 Python 是从 0 计数的\n",
    "#time = data.iloc[:,0]\n",
    "#time=np.linspace(0,(17378)*1.0,17379)\n",
    "#数据设置\n",
    "#x1 =time\n",
    "#x1=pd.DataFrame(x1)\n",
    "y1=data.iloc[:,16]\n",
    " \n",
    "\n",
    "timeSeries = np.array(y1)\n",
    "#k = 1 \n",
    "#timeSeries1 = np.array([1,10,100,1000,10000])\n",
    "#timeSeries2 = np.array([100,1,1000,10,10000])\n"
   ]
  },
  {
   "cell_type": "code",
   "execution_count": 2,
   "metadata": {},
   "outputs": [
    {
     "data": {
      "text/plain": [
       "(17379,)"
      ]
     },
     "execution_count": 2,
     "metadata": {},
     "output_type": "execute_result"
    }
   ],
   "source": [
    "timeSeries.shape"
   ]
  },
  {
   "cell_type": "code",
   "execution_count": 3,
   "metadata": {},
   "outputs": [],
   "source": [
    "def get_auto_corr(timeSeries,k):\n",
    "    '''\n",
    "    Descr:输入：时间序列timeSeries，滞后阶数k\n",
    "            输出：时间序列timeSeries的k阶自相关系数\n",
    "        l：序列timeSeries的长度\n",
    "        timeSeries1，timeSeries2:拆分序列1，拆分序列2\n",
    "        timeSeries_mean:序列timeSeries的均值\n",
    "        timeSeries_var:序列timeSeries的每一项减去均值的平方的和\n",
    "        \n",
    "    '''\n",
    "   # k=ii*4\n",
    "    l = len(timeSeries)\n",
    "    #取出要计算的两个数组\n",
    "    timeSeries1 = timeSeries[0:l-k]\n",
    "    timeSeries2 = timeSeries[k:]\n",
    "    timeSeries_mean = timeSeries.mean()\n",
    "    timeSeries_var = np.array([i**2 for i in timeSeries-timeSeries_mean]).sum()\n",
    "    auto_corr = 0\n",
    "    for i in range(l-k):\n",
    "        temp = (timeSeries1[i]-timeSeries_mean)*(timeSeries2[i]-timeSeries_mean)/timeSeries_var\n",
    "        auto_corr = auto_corr + temp  \n",
    "    return auto_corr\n",
    " \n",
    "#画出各阶自相关系数的图\n",
    "#mins=60\n",
    "def plot_auto_corr(timeSeries,ii):\n",
    "    '''\n",
    "    Descr:需要计算自相关函数get_auto_corr(timeSeries,k)\n",
    "            输入时间序列timeSeries和想绘制的阶数k，k不能超过timeSeries的长度\n",
    "            输出：k阶自相关系数图，用于判断平稳性\n",
    "    '''\n",
    "    xing=1\n",
    "    inter=1*xing\n",
    "    k=ii*inter\n",
    "    timeSeriestimeSeries = pd.DataFrame(range(ii))\n",
    "    for i in range(1,ii+1):\n",
    "        timeSeriestimeSeries.loc[i-1] =get_auto_corr(timeSeries,i*inter)\n",
    "    px=range(1,(len(timeSeriestimeSeries)*1+1),1)\n",
    "    py=timeSeriestimeSeries[0]\n",
    "    print(py)\n",
    "    py.to_excel('cor_Bik.xls')\n",
    "    ppplot(px,py)\n",
    "    return timeSeriestimeSeries\n",
    "def ppplot(x1,y1):\n",
    "    #设置输出的图片大小\n",
    "    figsize = 7.00,1.33#2.66#5.32\n",
    "    figure, ax = plt.subplots(figsize=figsize)\n",
    " \n",
    "    #在同一幅图片上画两条折线\n",
    "    x1=x1\n",
    "    A,=plt.plot(x1,y1,'-r',label='A',linewidth=1.0,c='#fe5f55')\n",
    "    #A,=plt.scatter(x1,y1,label='A',c='#fe5f55',s=2)\n",
    "    #B,=plt.plot(x2,y2,'b-.',label='B',linewidth=2.0)\n",
    " \n",
    "    #设置图例并且设置图例的字体及大小\n",
    "    font1 = {'family' : 'Times New Roman',\n",
    "    'weight' : 'normal',\n",
    "    'size' : 20,\n",
    "    }\n",
    "    #legend = plt.legend(handles=[A,B],prop=font1)\n",
    "\n",
    "    # 设置 X 和 Y 轴的最小最大值范围，对应的修改数字即可\n",
    "    plt.xlim(0, 350)\n",
    "    plt.ylim(-0.5,1)\n",
    "    # 设置坐标轴刻度值显示间隔，对应的修改数字即可\n",
    "    #x_major_locator=MultipleLocator(5000)\n",
    "    #y_major_locator=MultipleLocator(0.5)\n",
    "     \n",
    "    #设置坐标刻度值的大小以及刻度值的字体\n",
    "    plt.tick_params(labelsize=10)\n",
    "    labels = ax.get_xticklabels() + ax.get_yticklabels()\n",
    "    [label.set_fontname('Times New Roman') for label in labels]\n",
    " \n",
    "    #设置横纵坐标的名称以及对应字体格式\n",
    "    font2 = {'family' : 'Times New Roman',\n",
    "    'weight' : 'normal',\n",
    "    'size' : 12,\n",
    "    }\n",
    "    plt.xlabel('Time lag(h)', font2)\n",
    "    plt.ylabel('R', font2)\n",
    "    #ax.set_xlabel(\"2013\", fontsize=12)\n",
    "    from matplotlib.pyplot import MultipleLocator\n",
    " \n",
    "    # 设置坐标轴的朝向，in 表示朝内向，反之亦然\n",
    "    plt.tick_params(direction='in')  #设置坐标轴刻度的朝向\n",
    " \n",
    "    #将文件保存至文件中并且画出图\n",
    "    plt.savefig('ppplot3.png')\n",
    "    plt.show()"
   ]
  },
  {
   "cell_type": "code",
   "execution_count": 110,
   "metadata": {},
   "outputs": [
    {
     "name": "stdout",
     "output_type": "stream",
     "text": [
      "0      0.843774\n",
      "1      0.594070\n",
      "2      0.404356\n",
      "3      0.272212\n",
      "4      0.145557\n",
      "         ...   \n",
      "345   -0.068600\n",
      "346   -0.100139\n",
      "347   -0.112482\n",
      "348   -0.088083\n",
      "349   -0.055837\n",
      "Name: 0, Length: 350, dtype: float64\n"
     ]
    },
    {
     "data": {
      "image/png": "[encoded data removed]",
      "text/plain": [
       "<Figure size 504x95.76 with 1 Axes>"
      ]
     },
     "metadata": {
      "needs_background": "light"
     },
     "output_type": "display_data"
    },
    {
     "data": {
      "text/html": [
       "<div>\n",
       "<style scoped>\n",
       "    .dataframe tbody tr th:only-of-type {\n",
       "        vertical-align: middle;\n",
       "    }\n",
       "\n",
       "    .dataframe tbody tr th {\n",
       "        vertical-align: top;\n",
       "    }\n",
       "\n",
       "    .dataframe thead th {\n",
       "        text-align: right;\n",
       "    }\n",
       "</style>\n",
       "<table border=\"1\" class=\"dataframe\">\n",
       "  <thead>\n",
       "    <tr style=\"text-align: right;\">\n",
       "      <th></th>\n",
       "      <th>0</th>\n",
       "    </tr>\n",
       "  </thead>\n",
       "  <tbody>\n",
       "    <tr>\n",
       "      <th>0</th>\n",
       "      <td>0.843774</td>\n",
       "    </tr>\n",
       "    <tr>\n",
       "      <th>1</th>\n",
       "      <td>0.594070</td>\n",
       "    </tr>\n",
       "    <tr>\n",
       "      <th>2</th>\n",
       "      <td>0.404356</td>\n",
       "    </tr>\n",
       "    <tr>\n",
       "      <th>3</th>\n",
       "      <td>0.272212</td>\n",
       "    </tr>\n",
       "    <tr>\n",
       "      <th>4</th>\n",
       "      <td>0.145557</td>\n",
       "    </tr>\n",
       "    <tr>\n",
       "      <th>...</th>\n",
       "      <td>...</td>\n",
       "    </tr>\n",
       "    <tr>\n",
       "      <th>345</th>\n",
       "      <td>-0.068600</td>\n",
       "    </tr>\n",
       "    <tr>\n",
       "      <th>346</th>\n",
       "      <td>-0.100139</td>\n",
       "    </tr>\n",
       "    <tr>\n",
       "      <th>347</th>\n",
       "      <td>-0.112482</td>\n",
       "    </tr>\n",
       "    <tr>\n",
       "      <th>348</th>\n",
       "      <td>-0.088083</td>\n",
       "    </tr>\n",
       "    <tr>\n",
       "      <th>349</th>\n",
       "      <td>-0.055837</td>\n",
       "    </tr>\n",
       "  </tbody>\n",
       "</table>\n",
       "<p>350 rows × 1 columns</p>\n",
       "</div>"
      ],
      "text/plain": [
       "            0\n",
       "0    0.843774\n",
       "1    0.594070\n",
       "2    0.404356\n",
       "3    0.272212\n",
       "4    0.145557\n",
       "..        ...\n",
       "345 -0.068600\n",
       "346 -0.100139\n",
       "347 -0.112482\n",
       "348 -0.088083\n",
       "349 -0.055837\n",
       "\n",
       "[350 rows x 1 columns]"
      ]
     },
     "execution_count": 110,
     "metadata": {},
     "output_type": "execute_result"
    }
   ],
   "source": [
    "k=350\n",
    "plot_auto_corr(timeSeries,k)"
   ]
  },
  {
   "cell_type": "code",
   "execution_count": null,
   "metadata": {},
   "outputs": [],
   "source": [
    "#设置输出的图片大小\n",
    "figsize = 7.00,1.33#2.66#5.32\n",
    "figure, ax = plt.subplots(figsize=figsize)\n",
    " \n",
    "#在同一幅图片上画两条折线\n",
    "A,=plt.plot(x1,y1,'-r',label='A',linewidth=1.0,c='#fe5f55')\n",
    "#A,=plt.scatter(x1,y1,label='A',c='#fe5f55',s=2)\n",
    "#B,=plt.plot(x2,y2,'b-.',label='B',linewidth=2.0)\n",
    " \n",
    "#设置图例并且设置图例的字体及大小\n",
    "font1 = {'family' : 'Times New Roman',\n",
    "'weight' : 'normal',\n",
    "'size' : 20,\n",
    "}\n",
    "#legend = plt.legend(handles=[A,B],prop=font1)\n",
    "\n",
    "# 设置 X 和 Y 轴的最小最大值范围，对应的修改数字即可\n",
    "plt.xlim(0, 350)\n",
    "plt.ylim(0,300)\n",
    "# 设置坐标轴刻度值显示间隔，对应的修改数字即可\n",
    "#x_major_locator=MultipleLocator(5000)\n",
    "#y_major_locator=MultipleLocator(0.5)\n",
    " \n",
    "#设置坐标刻度值的大小以及刻度值的字体\n",
    "plt.tick_params(labelsize=10)\n",
    "labels = ax.get_xticklabels() + ax.get_yticklabels()\n",
    "[label.set_fontname('Times New Roman') for label in labels]\n",
    " \n",
    "#设置横纵坐标的名称以及对应字体格式\n",
    "font2 = {'family' : 'Times New Roman',\n",
    "'weight' : 'normal',\n",
    "'size' : 12,\n",
    "}\n",
    "plt.xlabel('Time (h)', font2)\n",
    "plt.ylabel('Count', font2)\n",
    "#ax.set_xlabel(\"2013\", fontsize=12)\n",
    "from matplotlib.pyplot import MultipleLocator\n",
    " \n",
    "# 设置坐标轴的朝向，in 表示朝内向，反之亦然\n",
    "plt.tick_params(direction='in')  #设置坐标轴刻度的朝向\n",
    " \n",
    "#将文件保存至文件中并且画出图\n",
    "plt.savefig('electricity3.png')\n",
    "plt.show()"
   ]
  },
  {
   "cell_type": "code",
   "execution_count": 57,
   "metadata": {},
   "outputs": [
    {
     "data": {
      "text/plain": [
       "<function matplotlib.pyplot.show(close=None, block=None)>"
      ]
     },
     "execution_count": 57,
     "metadata": {},
     "output_type": "execute_result"
    },
    {
     "data": {
      "image/png": "[encoded data removed]",
      "text/plain": [
       "<Figure size 432x288 with 1 Axes>"
      ]
     },
     "metadata": {
      "needs_background": "light"
     },
     "output_type": "display_data"
    }
   ],
   "source": [
    "plt.ylim(0.8,1)\n",
    "plt.show"
   ]
  },
  {
   "cell_type": "code",
   "execution_count": 70,
   "metadata": {},
   "outputs": [
    {
     "ename": "NameError",
     "evalue": "name 'x1' is not defined",
     "output_type": "error",
     "traceback": [
      "\u001b[0;31m---------------------------------------------------------------------------\u001b[0m",
      "\u001b[0;31mNameError\u001b[0m                                 Traceback (most recent call last)",
      "\u001b[0;32m<ipython-input-70-04358ba4b61b>\u001b[0m in \u001b[0;36m<module>\u001b[0;34m\u001b[0m\n\u001b[0;32m----> 1\u001b[0;31m \u001b[0mx1\u001b[0m\u001b[0;34m\u001b[0m\u001b[0;34m\u001b[0m\u001b[0m\n\u001b[0m",
      "\u001b[0;31mNameError\u001b[0m: name 'x1' is not defined"
     ]
    }
   ],
   "source": [
    "x1"
   ]
  },
  {
   "cell_type": "code",
   "execution_count": null,
   "metadata": {},
   "outputs": [],
   "source": []
  }
 ],
 "metadata": {
  "kernelspec": {
   "display_name": "Python 3",
   "language": "python",
   "name": "python3"
  },
  "language_info": {
   "codemirror_mode": {
    "name": "ipython",
    "version": 3
   },
   "file_extension": ".py",
   "mimetype": "text/x-python",
   "name": "python",
   "nbconvert_exporter": "python",
   "pygments_lexer": "ipython3",
   "version": "3.8.5"
  }
 },
 "nbformat": 4,
 "nbformat_minor": 4
}
