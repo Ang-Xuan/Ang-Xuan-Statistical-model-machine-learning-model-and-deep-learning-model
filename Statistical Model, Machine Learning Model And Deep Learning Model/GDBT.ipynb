{
 "cells": [
  {
   "cell_type": "code",
   "execution_count": 1,
   "id": "7526d35b",
   "metadata": {},
   "outputs": [],
   "source": [
    "from __future__ import division\n",
    "import json\n",
    "import lightgbm as lgb\n",
    "import pandas as pd\n",
    "import numpy as np\n",
    "from sklearn.metrics import mean_squared_error\n",
    "from sklearn.linear_model import LogisticRegression\n"
   ]
  },
  {
   "cell_type": "code",
   "execution_count": 2,
   "id": "3dd1eb85",
   "metadata": {},
   "outputs": [],
   "source": [
    "import pandas as pd\n",
    "\n",
    "dataset = pd.read_csv('1.csv',usecols=[0])\n",
    "\n",
    "\n",
    "tmp_dataset=dataset\n",
    "time=10\n",
    "for i in range(1,time+1):\n",
    "    result=tmp_dataset.shift(periods=i)\n",
    "    dataset=pd.concat([dataset,result],axis=1)"
   ]
  },
  {
   "cell_type": "code",
   "execution_count": 3,
   "id": "be25d655",
   "metadata": {},
   "outputs": [
    {
     "data": {
      "text/html": [
       "<div>\n",
       "<style scoped>\n",
       "    .dataframe tbody tr th:only-of-type {\n",
       "        vertical-align: middle;\n",
       "    }\n",
       "\n",
       "    .dataframe tbody tr th {\n",
       "        vertical-align: top;\n",
       "    }\n",
       "\n",
       "    .dataframe thead th {\n",
       "        text-align: right;\n",
       "    }\n",
       "</style>\n",
       "<table border=\"1\" class=\"dataframe\">\n",
       "  <thead>\n",
       "    <tr style=\"text-align: right;\">\n",
       "      <th></th>\n",
       "      <th>0</th>\n",
       "      <th>0</th>\n",
       "      <th>0</th>\n",
       "      <th>0</th>\n",
       "      <th>0</th>\n",
       "      <th>0</th>\n",
       "      <th>0</th>\n",
       "      <th>0</th>\n",
       "      <th>0</th>\n",
       "      <th>0</th>\n",
       "      <th>0</th>\n",
       "    </tr>\n",
       "  </thead>\n",
       "  <tbody>\n",
       "    <tr>\n",
       "      <th>0</th>\n",
       "      <td>112</td>\n",
       "      <td>NaN</td>\n",
       "      <td>NaN</td>\n",
       "      <td>NaN</td>\n",
       "      <td>NaN</td>\n",
       "      <td>NaN</td>\n",
       "      <td>NaN</td>\n",
       "      <td>NaN</td>\n",
       "      <td>NaN</td>\n",
       "      <td>NaN</td>\n",
       "      <td>NaN</td>\n",
       "    </tr>\n",
       "    <tr>\n",
       "      <th>1</th>\n",
       "      <td>118</td>\n",
       "      <td>112.0</td>\n",
       "      <td>NaN</td>\n",
       "      <td>NaN</td>\n",
       "      <td>NaN</td>\n",
       "      <td>NaN</td>\n",
       "      <td>NaN</td>\n",
       "      <td>NaN</td>\n",
       "      <td>NaN</td>\n",
       "      <td>NaN</td>\n",
       "      <td>NaN</td>\n",
       "    </tr>\n",
       "    <tr>\n",
       "      <th>2</th>\n",
       "      <td>132</td>\n",
       "      <td>118.0</td>\n",
       "      <td>112.0</td>\n",
       "      <td>NaN</td>\n",
       "      <td>NaN</td>\n",
       "      <td>NaN</td>\n",
       "      <td>NaN</td>\n",
       "      <td>NaN</td>\n",
       "      <td>NaN</td>\n",
       "      <td>NaN</td>\n",
       "      <td>NaN</td>\n",
       "    </tr>\n",
       "    <tr>\n",
       "      <th>3</th>\n",
       "      <td>129</td>\n",
       "      <td>132.0</td>\n",
       "      <td>118.0</td>\n",
       "      <td>112.0</td>\n",
       "      <td>NaN</td>\n",
       "      <td>NaN</td>\n",
       "      <td>NaN</td>\n",
       "      <td>NaN</td>\n",
       "      <td>NaN</td>\n",
       "      <td>NaN</td>\n",
       "      <td>NaN</td>\n",
       "    </tr>\n",
       "    <tr>\n",
       "      <th>4</th>\n",
       "      <td>121</td>\n",
       "      <td>129.0</td>\n",
       "      <td>132.0</td>\n",
       "      <td>118.0</td>\n",
       "      <td>112.0</td>\n",
       "      <td>NaN</td>\n",
       "      <td>NaN</td>\n",
       "      <td>NaN</td>\n",
       "      <td>NaN</td>\n",
       "      <td>NaN</td>\n",
       "      <td>NaN</td>\n",
       "    </tr>\n",
       "    <tr>\n",
       "      <th>...</th>\n",
       "      <td>...</td>\n",
       "      <td>...</td>\n",
       "      <td>...</td>\n",
       "      <td>...</td>\n",
       "      <td>...</td>\n",
       "      <td>...</td>\n",
       "      <td>...</td>\n",
       "      <td>...</td>\n",
       "      <td>...</td>\n",
       "      <td>...</td>\n",
       "      <td>...</td>\n",
       "    </tr>\n",
       "    <tr>\n",
       "      <th>139</th>\n",
       "      <td>606</td>\n",
       "      <td>622.0</td>\n",
       "      <td>535.0</td>\n",
       "      <td>472.0</td>\n",
       "      <td>461.0</td>\n",
       "      <td>419.0</td>\n",
       "      <td>391.0</td>\n",
       "      <td>417.0</td>\n",
       "      <td>405.0</td>\n",
       "      <td>362.0</td>\n",
       "      <td>407.0</td>\n",
       "    </tr>\n",
       "    <tr>\n",
       "      <th>140</th>\n",
       "      <td>508</td>\n",
       "      <td>606.0</td>\n",
       "      <td>622.0</td>\n",
       "      <td>535.0</td>\n",
       "      <td>472.0</td>\n",
       "      <td>461.0</td>\n",
       "      <td>419.0</td>\n",
       "      <td>391.0</td>\n",
       "      <td>417.0</td>\n",
       "      <td>405.0</td>\n",
       "      <td>362.0</td>\n",
       "    </tr>\n",
       "    <tr>\n",
       "      <th>141</th>\n",
       "      <td>461</td>\n",
       "      <td>508.0</td>\n",
       "      <td>606.0</td>\n",
       "      <td>622.0</td>\n",
       "      <td>535.0</td>\n",
       "      <td>472.0</td>\n",
       "      <td>461.0</td>\n",
       "      <td>419.0</td>\n",
       "      <td>391.0</td>\n",
       "      <td>417.0</td>\n",
       "      <td>405.0</td>\n",
       "    </tr>\n",
       "    <tr>\n",
       "      <th>142</th>\n",
       "      <td>390</td>\n",
       "      <td>461.0</td>\n",
       "      <td>508.0</td>\n",
       "      <td>606.0</td>\n",
       "      <td>622.0</td>\n",
       "      <td>535.0</td>\n",
       "      <td>472.0</td>\n",
       "      <td>461.0</td>\n",
       "      <td>419.0</td>\n",
       "      <td>391.0</td>\n",
       "      <td>417.0</td>\n",
       "    </tr>\n",
       "    <tr>\n",
       "      <th>143</th>\n",
       "      <td>432</td>\n",
       "      <td>390.0</td>\n",
       "      <td>461.0</td>\n",
       "      <td>508.0</td>\n",
       "      <td>606.0</td>\n",
       "      <td>622.0</td>\n",
       "      <td>535.0</td>\n",
       "      <td>472.0</td>\n",
       "      <td>461.0</td>\n",
       "      <td>419.0</td>\n",
       "      <td>391.0</td>\n",
       "    </tr>\n",
       "  </tbody>\n",
       "</table>\n",
       "<p>144 rows × 11 columns</p>\n",
       "</div>"
      ],
      "text/plain": [
       "       0      0      0      0      0      0      0      0      0      0      0\n",
       "0    112    NaN    NaN    NaN    NaN    NaN    NaN    NaN    NaN    NaN    NaN\n",
       "1    118  112.0    NaN    NaN    NaN    NaN    NaN    NaN    NaN    NaN    NaN\n",
       "2    132  118.0  112.0    NaN    NaN    NaN    NaN    NaN    NaN    NaN    NaN\n",
       "3    129  132.0  118.0  112.0    NaN    NaN    NaN    NaN    NaN    NaN    NaN\n",
       "4    121  129.0  132.0  118.0  112.0    NaN    NaN    NaN    NaN    NaN    NaN\n",
       "..   ...    ...    ...    ...    ...    ...    ...    ...    ...    ...    ...\n",
       "139  606  622.0  535.0  472.0  461.0  419.0  391.0  417.0  405.0  362.0  407.0\n",
       "140  508  606.0  622.0  535.0  472.0  461.0  419.0  391.0  417.0  405.0  362.0\n",
       "141  461  508.0  606.0  622.0  535.0  472.0  461.0  419.0  391.0  417.0  405.0\n",
       "142  390  461.0  508.0  606.0  622.0  535.0  472.0  461.0  419.0  391.0  417.0\n",
       "143  432  390.0  461.0  508.0  606.0  622.0  535.0  472.0  461.0  419.0  391.0\n",
       "\n",
       "[144 rows x 11 columns]"
      ]
     },
     "execution_count": 3,
     "metadata": {},
     "output_type": "execute_result"
    }
   ],
   "source": [
    "dataset"
   ]
  },
  {
   "cell_type": "code",
   "execution_count": 3,
   "id": "4ac57a9f",
   "metadata": {},
   "outputs": [],
   "source": [
    "# Create the features (x) and target (y) data sets\n",
    "train=dataset[time:round((dataset.shape[0]-time)*0.9)]\n",
    "test=dataset[round((dataset.shape[0]-time)*0.9):]\n",
    "\n",
    "# import sklearn machine learning library\n",
    "from sklearn.model_selection import train_test_split\n",
    "\n",
    "# Split the features and target datasets into training and test datasets\n",
    "X_train = train.iloc[:, : -1].values\n",
    "y_train = train.iloc[:, -1].values\n",
    "X_test = test.iloc[:, : -1].values\n",
    "y_test = test.iloc[:, -1].values\n"
   ]
  },
  {
   "cell_type": "code",
   "execution_count": 4,
   "id": "8a64e7e9",
   "metadata": {},
   "outputs": [
    {
     "data": {
      "text/plain": [
       "array([20.7, 17.9, 18.8, ..., 18.7, 16.2, 14.8])"
      ]
     },
     "execution_count": 4,
     "metadata": {},
     "output_type": "execute_result"
    }
   ],
   "source": [
    "y_train"
   ]
  },
  {
   "cell_type": "code",
   "execution_count": 5,
   "id": "d53de32c",
   "metadata": {},
   "outputs": [],
   "source": [
    "from sklearn.ensemble import GradientBoostingClassifier\n",
    "dtc = GradientBoostingClassifier(loss='deviance', learning_rate=0.005, n_estimators=100,\n",
    "                 subsample=1.0, min_samples_split=2,\n",
    "                 min_samples_leaf=1, min_weight_fraction_leaf=0.,\n",
    "                 max_depth=3, init=None, random_state=None,\n",
    "                 max_features=None, verbose=0,\n",
    "                 max_leaf_nodes=None, warm_start=False)\n"
   ]
  },
  {
   "cell_type": "code",
   "execution_count": 6,
   "id": "0de40de1",
   "metadata": {
    "scrolled": true
   },
   "outputs": [],
   "source": [
    "y_train=(y_train*10).astype('int')"
   ]
  },
  {
   "cell_type": "code",
   "execution_count": 7,
   "id": "81059151",
   "metadata": {
    "scrolled": true
   },
   "outputs": [
    {
     "data": {
      "text/plain": [
       "array([207, 179, 188, ..., 187, 162, 148])"
      ]
     },
     "execution_count": 7,
     "metadata": {},
     "output_type": "execute_result"
    }
   ],
   "source": [
    "y_train"
   ]
  },
  {
   "cell_type": "code",
   "execution_count": 8,
   "id": "8f90d218",
   "metadata": {},
   "outputs": [
    {
     "name": "stdout",
     "output_type": "stream",
     "text": [
      "272.3489623069763\n"
     ]
    }
   ],
   "source": [
    "import time\n",
    "time1=time.time()\n",
    "dtc.fit(X_train,y_train)\n",
    "time2=time.time()\n",
    "print(time2-time1)"
   ]
  },
  {
   "cell_type": "code",
   "execution_count": 9,
   "id": "6760b8d9",
   "metadata": {
    "scrolled": true
   },
   "outputs": [],
   "source": [
    "y_pred = dtc.predict(X_test)\n"
   ]
  },
  {
   "cell_type": "code",
   "execution_count": 10,
   "id": "c7ab4220",
   "metadata": {},
   "outputs": [],
   "source": [
    "y_pred=y_pred/10"
   ]
  },
  {
   "cell_type": "code",
   "execution_count": 11,
   "id": "b56f4c3c",
   "metadata": {
    "scrolled": true
   },
   "outputs": [
    {
     "name": "stdout",
     "output_type": "stream",
     "text": [
      "[10.5 10.5 13.3 10.8 16.3 15.5 11.  13.  10.6 10.5 12.  18.6 11.  12.\n",
      "  9.5 10.7 16.2 12.8 12.8 15.  14.4 13.3 15.  14.4 15.5 13.8 14.8 14.\n",
      " 17.8 15.  15.2 11.  20.5 10.5 12.  16.2 12.2 13.3 13.3 14.5 16.2 19.5\n",
      " 13.3 14.2 13.  13.3 15.  15.5 16.3 10.5 12.  15.  15.  15.  13.9 15.7\n",
      " 14.2 12.8 16.5 16.1 12.5 13.9 14.2 14.2 16.3 17.  12.6 21.5 13.3 15.7\n",
      " 15.7 15.2 13.9 23.9 14.4 14.4 14.4 20.5 19.4 17.8 16.2 20.5 18.5 14.5\n",
      " 10.5 11.8 13.  13.8 11.9 11.  12.  19.  10.5 13.4 16.2 16.2 14.4 15.\n",
      " 14.8 16.8 13.3 14.2 15.2 20.1 13.  10.5 13.6 15.2 15.  20.5 15.7 14.2\n",
      " 16.1 16.2 14.4 14.4 16.2 13.3 17.  17.7 17.  10.5 10.6 11.8 12.  12.1\n",
      " 13.  14.5 13.  10.6 12.5 12.5 12.5 10.5 10.5 10.5 11.9 10.6 16.5 10.6\n",
      " 12.5 10.  16.7 10.   6.3  3.4  4.6 11.7 12.5 10.6  8.6 10.   8.  10.2\n",
      " 15.2  8.   6.7  6.4  8.3  6.3  7.6 10.  10.   6.7 11.   8.3 10.6  8.\n",
      " 10.   8.1 11.   8.  11.  12.6  7.   7.   8.   8.3  9.7  9.  11.2 13.\n",
      "  9.   3.8  8.   7.   7.  11.   3.1  7.   7.7 12.2  6.6  8.  11.2  5.7\n",
      "  5.7  8.   8.   6.6  6.6  7.   9.   8.   5.8  6.2 10.  10.   8.   9.\n",
      " 10.   9.   8.1 10.  10.   8.  10.   8.   9.  10.  10.   9.5 10.   8.\n",
      "  6.6  8.1  8.   6.6  6.3  5.7  9.  10.   9.   8.  12.2  9.5  6.8  8.\n",
      "  8.   5.7 10.   9.   9.   8.   8.   8.   8.  11.1 12.4  9.  10.   7.2\n",
      " 10.   5.8  9.   2.6  1.5  4.3 11.7  7.   7.   7.8  9.  12.6  7.6  6.5\n",
      "  8.7 10.2  8.6  8.7  8.5  7.7  6.3  7.6 11.3 11.2  6.3  4.7  5.5 10.\n",
      "  8.7  6.3 13.3 11.3  8.  16.7  8.3  2.8 10.5 10.6 10.  10.2 13.4 10.\n",
      " 10.  10.  11.  10.2  6.3 11.3 14.8  8.7 11.   4.9  8.   9.6 10.  13.4\n",
      " 11.9  9.4  4.3 11.3  8.3 10.5 14.4 13.3 12.  13.  17.  21.5 16.2 15.\n",
      " 16.2 13.9 10.6 16.2  9.9 16.8 16.2 11.   8.7 10.6 10.3 12.  12.5  9.\n",
      " 11.8  9.5 10.2 10.5  4.9  6.7  9.  12.  10.3 11.  11.   9.5 13.4 20.5\n",
      " 15.  14.4 15.  18.3 15.2 14.5 17.8 14.5 15.2 13.  10.5 10.5 12.  15.\n",
      " 10.3 15.2 13.3 12.6 12.5 13.  12.5 15.  15.2 12. ]\n"
     ]
    }
   ],
   "source": [
    "print(y_pred)"
   ]
  },
  {
   "cell_type": "code",
   "execution_count": 14,
   "id": "90e46ad1",
   "metadata": {},
   "outputs": [],
   "source": [
    "import matplotlib.pyplot as plt\n",
    "xx=[]\n",
    "for i in range(round(y_pred.shape[0]/10)):\n",
    "    xx.append(i)"
   ]
  },
  {
   "cell_type": "code",
   "execution_count": 15,
   "id": "03e3f65e",
   "metadata": {},
   "outputs": [
    {
     "data": {
      "text/plain": [
       "[<matplotlib.lines.Line2D at 0x1dd008724f0>]"
      ]
     },
     "execution_count": 15,
     "metadata": {},
     "output_type": "execute_result"
    },
    {
     "data": {
      "image/png": "[encoded data removed]",
      "text/plain": [
       "<Figure size 432x288 with 1 Axes>"
      ]
     },
     "metadata": {
      "needs_background": "light"
     },
     "output_type": "display_data"
    }
   ],
   "source": [
    "plt.plot(xx, y_pred[:len(xx)],c='b')\n",
    "plt.plot(xx, y_test[:len(xx)],c='r')"
   ]
  },
  {
   "cell_type": "code",
   "execution_count": 16,
   "id": "7810194d",
   "metadata": {},
   "outputs": [],
   "source": [
    "data={'y_test':y_test}\n",
    "frame=pd.DataFrame(data)\n",
    "frame.to_csv('tmp_gdbt.csv')"
   ]
  },
  {
   "cell_type": "code",
   "execution_count": 17,
   "id": "72d3a4d7",
   "metadata": {},
   "outputs": [
    {
     "name": "stdout",
     "output_type": "stream",
     "text": [
      "10.349893048128342\n",
      "2.479679144385027\n",
      "0.2950778380090512\n"
     ]
    }
   ],
   "source": [
    "from sklearn import metrics\n",
    "\n",
    "print(metrics.mean_squared_error(y_test,y_pred))\n",
    "print(metrics.mean_absolute_error(y_test,y_pred))\n",
    "print(metrics.r2_score(y_test,y_pred))\n"
   ]
  }
 ],
 "metadata": {
  "kernelspec": {
   "display_name": "Python 3 (ipykernel)",
   "language": "python",
   "name": "python3"
  },
  "language_info": {
   "codemirror_mode": {
    "name": "ipython",
    "version": 3
   },
   "file_extension": ".py",
   "mimetype": "text/x-python",
   "name": "python",
   "nbconvert_exporter": "python",
   "pygments_lexer": "ipython3",
   "version": "3.9.6"
  }
 },
 "nbformat": 4,
 "nbformat_minor": 5
}
