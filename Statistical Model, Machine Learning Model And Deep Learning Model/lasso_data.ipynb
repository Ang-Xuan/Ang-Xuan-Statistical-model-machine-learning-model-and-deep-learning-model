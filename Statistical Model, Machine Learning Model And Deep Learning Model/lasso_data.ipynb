{
 "cells": [
  {
   "cell_type": "code",
   "execution_count": 1,
   "metadata": {},
   "outputs": [],
   "source": [
    "#Lasso回归模型\n",
    "from sklearn.linear_model import Lasso\n",
    "#效果评估\n",
    "from sklearn.metrics import r2_score\n",
    "#机器学习相关的数据集模块\n",
    "import sklearn.datasets as datasets\n",
    "#绘图模块\n",
    "import matplotlib.pyplot as plt\n",
    "import pandas as pd"
   ]
  },
  {
   "cell_type": "code",
   "execution_count": 2,
   "metadata": {},
   "outputs": [
    {
     "name": "stdout",
     "output_type": "stream",
     "text": [
      "[[2.787e+03 0.000e+00 2.000e+00 ... 1.900e+01 7.700e+01 9.600e+01]\n",
      " [2.788e+03 0.000e+00 2.000e+00 ... 9.000e+00 5.000e+01 5.900e+01]\n",
      " [2.789e+03 0.000e+00 2.000e+00 ... 7.000e+00 4.300e+01 5.000e+01]\n",
      " ...\n",
      " [8.334e+03 0.000e+00 4.000e+00 ... 9.000e+00 8.000e+01 8.900e+01]\n",
      " [8.335e+03 0.000e+00 4.000e+00 ... 2.000e+00 4.700e+01 4.900e+01]\n",
      " [8.336e+03 0.000e+00 4.000e+00 ... 6.000e+00 3.100e+01 3.700e+01]]\n",
      "raw data's shape (833, 17)\n"
     ]
    }
   ],
   "source": [
    "def super_transfer(_type, value, default_return=0, is_log=False):\n",
    "    try:\n",
    "        result = _type(value)\n",
    "    except:\n",
    "        result = default_return\n",
    "        if is_log:\n",
    "            logger.error('将{value}转换为{_type}类型时失败'.format(value=value, _type=_type))\n",
    "\n",
    "    return result\n",
    "\n",
    "def safe_int(value, default_return=0, is_log=False):\n",
    "    '''\n",
    "    提供安全的类型转换函数,将value转换为int类型\n",
    "    :param value:需要被转换的数据\n",
    "    :param default_return: 转换失败时的返回值\n",
    "    :param is_log:是否记录日志\n",
    "    :return:\n",
    "    '''\n",
    "    return super_transfer(int, value, default_return, is_log)\n",
    "\n",
    "\n",
    "def safe_float(value, default_return=0, is_log=False):\n",
    "    '''\n",
    "    提供安全的类型转换函数,将value转换为float类型\n",
    "    :param value:需要被转换的数据\n",
    "    :param default_return: 转换失败时的返回值\n",
    "    :param is_log:是否记录日志\n",
    "    :return:\n",
    "    '''\n",
    "\n",
    "    return super_transfer(float, value, default_return, is_log)\n",
    "import numpy as np\n",
    " \n",
    "def file2array(path, delimiter=','):     # delimiter是数据分隔符\n",
    "    fp = open(path, 'r', encoding='utf-8')\n",
    "    string = fp.read()              # string是一行字符串，该字符串包含文件所有内容\n",
    "    fp.close()\n",
    "    row_list = string.splitlines()  # splitlines默认参数是‘\\n’\n",
    "    data_list = [[safe_float(i) for i in row.strip().split(delimiter)] for row in row_list]\n",
    "    return np.array(data_list)\n",
    " \n",
    "data_raw = file2array('bicycle3.csv')\n",
    "print(data_raw)\n",
    "print(\"raw data's shape\", data_raw.shape)"
   ]
  },
  {
   "cell_type": "code",
   "execution_count": 14,
   "metadata": {},
   "outputs": [],
   "source": [
    "#导入datasets模块提供的boston房价数据\n",
    "#boston = datasets.load_boston()\n",
    "#data = data_raw[:,0:15]\n",
    "data = np.linspace(0,832,833)#data_raw[:,0]\n",
    "data=np.array(data).reshape(-1,1)\n",
    "target=data_raw[:,0]\n",
    "target=data_raw[:,16]\n",
    "#训练长度\n",
    "l_pre=750\n",
    "#训练数据\n",
    "X_train = data[:l_pre]\n",
    "Y_train = target[:l_pre]\n",
    "#测试数据\n",
    "x_test = data[l_pre:]#l_pre+200]\n",
    "y_true = target[l_pre:]#l_pre+200]"
   ]
  },
  {
   "cell_type": "code",
   "execution_count": 15,
   "metadata": {},
   "outputs": [],
   "source": [
    "las = Lasso(alpha=0.0000020000)"
   ]
  },
  {
   "cell_type": "code",
   "execution_count": 16,
   "metadata": {},
   "outputs": [
    {
     "data": {
      "text/plain": [
       "Lasso(alpha=2e-06)"
      ]
     },
     "execution_count": 16,
     "metadata": {},
     "output_type": "execute_result"
    }
   ],
   "source": [
    "las.fit(X_train,Y_train)"
   ]
  },
  {
   "cell_type": "code",
   "execution_count": 17,
   "metadata": {},
   "outputs": [],
   "source": [
    "#输入测试数据\n",
    "y_pre = las.predict(x_test)"
   ]
  },
  {
   "cell_type": "code",
   "execution_count": 18,
   "metadata": {},
   "outputs": [
    {
     "data": {
      "text/plain": [
       "-0.07246607006214978"
      ]
     },
     "execution_count": 18,
     "metadata": {},
     "output_type": "execute_result"
    }
   ],
   "source": [
    "#预测效果评分\n",
    "r2_score(y_true,y_pre)"
   ]
  },
  {
   "cell_type": "code",
   "execution_count": 19,
   "metadata": {},
   "outputs": [
    {
     "data": {
      "text/plain": [
       "<matplotlib.legend.Legend at 0x7ff1c816fdc0>"
      ]
     },
     "execution_count": 19,
     "metadata": {},
     "output_type": "execute_result"
    },
    {
     "data": {
      "image/png": "[encoded data removed]",
      "text/plain": [
       "<Figure size 432x288 with 1 Axes>"
      ]
     },
     "metadata": {
      "needs_background": "light"
     },
     "output_type": "display_data"
    }
   ],
   "source": [
    "#绘制\n",
    "plt.plot(y_true,label='True')\n",
    "plt.plot(y_pre,label='Predict')\n",
    "plt.legend()"
   ]
  },
  {
   "cell_type": "code",
   "execution_count": 23,
   "metadata": {},
   "outputs": [],
   "source": [
    "y_pre=pd.DataFrame(y_pre)\n",
    "y_pre.to_excel('result_bicycle1.xls')"
   ]
  },
  {
   "cell_type": "code",
   "execution_count": 22,
   "metadata": {},
   "outputs": [],
   "source": [
    "y_true=pd.DataFrame(y_true)\n",
    "y_true.to_excel('result_bicycle1.xls')"
   ]
  },
  {
   "cell_type": "code",
   "execution_count": 31,
   "metadata": {},
   "outputs": [],
   "source": [
    "data = data_raw[:,0:14]\n",
    "target=data_raw[:,15]"
   ]
  },
  {
   "cell_type": "code",
   "execution_count": null,
   "metadata": {},
   "outputs": [],
   "source": []
  }
 ],
 "metadata": {
  "kernelspec": {
   "display_name": "Python 3",
   "language": "python",
   "name": "python3"
  },
  "language_info": {
   "codemirror_mode": {
    "name": "ipython",
    "version": 3
   },
   "file_extension": ".py",
   "mimetype": "text/x-python",
   "name": "python",
   "nbconvert_exporter": "python",
   "pygments_lexer": "ipython3",
   "version": "3.8.5"
  }
 },
 "nbformat": 4,
 "nbformat_minor": 4
}
